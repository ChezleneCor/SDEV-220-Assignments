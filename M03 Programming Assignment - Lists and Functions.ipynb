{
 "cells": [
  {
   "cell_type": "code",
   "execution_count": 1,
   "id": "f82425e5",
   "metadata": {},
   "outputs": [],
   "source": [
    "#7.4\n",
    "things = [\"mozzarella\", \"cinderella\", \"salmonella\"]"
   ]
  },
  {
   "cell_type": "code",
   "execution_count": 10,
   "id": "85a5129a",
   "metadata": {},
   "outputs": [
    {
     "name": "stdout",
     "output_type": "stream",
     "text": [
      "Salmonella\n"
     ]
    }
   ],
   "source": [
    "#7.5\n",
    "things[2] = things[2].capitalize()\n",
    "print(things[2])"
   ]
  },
  {
   "cell_type": "markdown",
   "id": "9d2c85e4",
   "metadata": {},
   "source": [
    "Yes, the item in the list was changed."
   ]
  },
  {
   "cell_type": "code",
   "execution_count": 8,
   "id": "8a3293ee",
   "metadata": {},
   "outputs": [
    {
     "name": "stdout",
     "output_type": "stream",
     "text": [
      "MOZZARELLA\n"
     ]
    }
   ],
   "source": [
    "#7.6\n",
    "things[0] = things[0].upper()\n",
    "print(things[0])"
   ]
  },
  {
   "cell_type": "code",
   "execution_count": 11,
   "id": "9642072c",
   "metadata": {},
   "outputs": [
    {
     "name": "stdout",
     "output_type": "stream",
     "text": [
      "['MOZZARELLA', 'cinderella']\n"
     ]
    }
   ],
   "source": [
    "#7.7\n",
    "things.pop()\n",
    "print(things)"
   ]
  },
  {
   "cell_type": "code",
   "execution_count": 13,
   "id": "84c5cb67",
   "metadata": {},
   "outputs": [
    {
     "data": {
      "text/plain": [
       "['Harry', 'Ron', 'Hermione']"
      ]
     },
     "execution_count": 13,
     "metadata": {},
     "output_type": "execute_result"
    }
   ],
   "source": [
    "#9.1\n",
    "def good():\n",
    "    return ['Harry', 'Ron', 'Hermione']\n",
    "\n",
    "good()"
   ]
  },
  {
   "cell_type": "code",
   "execution_count": 54,
   "id": "7b61a308",
   "metadata": {},
   "outputs": [
    {
     "name": "stdout",
     "output_type": "stream",
     "text": [
      "5\n"
     ]
    }
   ],
   "source": [
    "#9.2\n",
    "def get_odds():\n",
    "    '''function that will return odd numbers between 0 and 10'''\n",
    "    #initilizing list to hold odd numbers\n",
    "    odds = []\n",
    "    \n",
    "    for x in range(10):\n",
    "        if x % 2 != 0: #checking if number is odd\n",
    "            odds.append(x)\n",
    "    return odds\n",
    "        \n",
    "odd_nums = get_odds() #saving odd number in global list\n",
    "\n",
    "count = 0\n",
    "for x in odd_nums: #prints the 3rd odd number\n",
    "    count += 1\n",
    "    if count == 3:\n",
    "        print(x)\n",
    "        \n",
    "    "
   ]
  },
  {
   "cell_type": "code",
   "execution_count": null,
   "id": "63b7c413",
   "metadata": {},
   "outputs": [],
   "source": []
  }
 ],
 "metadata": {
  "kernelspec": {
   "display_name": "Python 3 (ipykernel)",
   "language": "python",
   "name": "python3"
  },
  "language_info": {
   "codemirror_mode": {
    "name": "ipython",
    "version": 3
   },
   "file_extension": ".py",
   "mimetype": "text/x-python",
   "name": "python",
   "nbconvert_exporter": "python",
   "pygments_lexer": "ipython3",
   "version": "3.9.13"
  }
 },
 "nbformat": 4,
 "nbformat_minor": 5
}
