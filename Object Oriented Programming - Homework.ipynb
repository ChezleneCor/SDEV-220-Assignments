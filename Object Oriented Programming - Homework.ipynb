{
 "cells": [
  {
   "cell_type": "code",
   "execution_count": 5,
   "id": "76b7ae29",
   "metadata": {},
   "outputs": [
    {
     "name": "stdout",
     "output_type": "stream",
     "text": [
      "distance of the two points is: 9.433981132056603\n",
      "slope of the two points is: 1.6\n"
     ]
    }
   ],
   "source": [
    "# Problem 1\n",
    "class Line:\n",
    "    \n",
    "    def __init__(self,coor1,coor2):\n",
    "        self.coor1 = coor1\n",
    "        self.coor2 = coor2\n",
    "    \n",
    "    def distance(self):\n",
    "        x1, y1 = self.coor1\n",
    "        x2, y2 = self.coor2\n",
    "        return ((x2-x1)**2 + (y2-y1)**2)**0.5\n",
    "    \n",
    "    def slope(self):\n",
    "        x1,y1 = self.coor1\n",
    "        x2,y2 = self.coor2\n",
    "        return (y2-y1)/(x2-x1)\n",
    "    \n",
    "# EXAMPLE OUTPUT\n",
    "\n",
    "coordinate_pair1 = (3,2)\n",
    "coordinate_pair2 = (8,10)\n",
    "\n",
    "li = Line(coordinate_pair1,coordinate_pair2)\n",
    "\n",
    "print(\"distance of the two points is:\" , li.distance())\n",
    "print(\"slope of the two points is:\" , li.slope())"
   ]
  },
  {
   "cell_type": "code",
   "execution_count": 9,
   "id": "df8ffd4d",
   "metadata": {},
   "outputs": [
    {
     "name": "stdout",
     "output_type": "stream",
     "text": [
      "The volume is 56.52 cubic inches\n",
      "The surface_area is 94.2 inches\n"
     ]
    }
   ],
   "source": [
    "# Problem 2\n",
    "class Cylinder:\n",
    "    \n",
    "    def __init__(self,height=1,radius=1):\n",
    "        self.height = height\n",
    "        self.radius = radius\n",
    "        \n",
    "    def volume(self):\n",
    "        return self.height * 3.14 * (self.radius)**2\n",
    "    \n",
    "    def surface_area(self):\n",
    "        top = 3.14 * (self.radius)**2\n",
    "        return (2 * top) + (2 * 3.14 * self.radius * self.height)\n",
    "    \n",
    "c = Cylinder(2,3)\n",
    "print(\"The volume is\" , c.volume() , \"cubic inches\")\n",
    "print(\"The surface_area is\" ,  c.surface_area() , \"inches\")\n"
   ]
  },
  {
   "cell_type": "code",
   "execution_count": null,
   "id": "060e3612",
   "metadata": {},
   "outputs": [],
   "source": []
  }
 ],
 "metadata": {
  "kernelspec": {
   "display_name": "Python 3 (ipykernel)",
   "language": "python",
   "name": "python3"
  },
  "language_info": {
   "codemirror_mode": {
    "name": "ipython",
    "version": 3
   },
   "file_extension": ".py",
   "mimetype": "text/x-python",
   "name": "python",
   "nbconvert_exporter": "python",
   "pygments_lexer": "ipython3",
   "version": "3.9.13"
  }
 },
 "nbformat": 4,
 "nbformat_minor": 5
}
