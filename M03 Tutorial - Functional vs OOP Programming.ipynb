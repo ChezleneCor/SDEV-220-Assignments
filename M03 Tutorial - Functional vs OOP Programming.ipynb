{
 "cells": [
  {
   "cell_type": "code",
   "execution_count": 4,
   "id": "6b6bab56",
   "metadata": {},
   "outputs": [
    {
     "name": "stdout",
     "output_type": "stream",
     "text": [
      "33.49333333333333\n"
     ]
    }
   ],
   "source": [
    "# Write a function that computes the volume of a sphere given it's radius. \n",
    "def vol(rad):\n",
    "    volume = (4/3) * 3.14 * (rad)**3\n",
    "    return volume\n",
    "\n",
    "print(vol(2))"
   ]
  },
  {
   "cell_type": "code",
   "execution_count": 8,
   "id": "87fba58d",
   "metadata": {},
   "outputs": [
    {
     "name": "stdout",
     "output_type": "stream",
     "text": [
      "5 is in the range of 2 and 7\n",
      "True\n"
     ]
    }
   ],
   "source": [
    "#Write a function that checks whether a number is in a given range (inclusive of high and low number)\n",
    "def ran_check(num, low, high):\n",
    "    if num >= low and num <= high:\n",
    "        print(num , \"is in the range of\" , low , \"and\" , high)\n",
    "    else:\n",
    "        print(num , \"is outside of the range of \" , low , \"and\" , high)\n",
    "        \n",
    "def ran_bool(num, low, high):\n",
    "    if num >= low and num <= high:\n",
    "        return True\n",
    "    else:\n",
    "        return False\n",
    "    \n",
    "ran_check(5, 2, 7)\n",
    "print(ran_bool(3, 1, 10))"
   ]
  },
  {
   "cell_type": "code",
   "execution_count": 10,
   "id": "5c7cfb0f",
   "metadata": {},
   "outputs": [
    {
     "name": "stdout",
     "output_type": "stream",
     "text": [
      "Original String: Hello Mr. Rogers, how are you this fine Tuesday?\n",
      "No. of upper case characters: 4\n",
      "No. of lower case characters: 33\n"
     ]
    }
   ],
   "source": [
    "# Write a Python function that accepts a string and calculates the number of upper class letters and lower case letters\n",
    "s = 'Hello Mr. Rogers, how are you this fine Tuesday?'\n",
    "\n",
    "\n",
    "def up_low(string):\n",
    "    upper_count = 0\n",
    "    lower_count = 0\n",
    "\n",
    "    for x in string:\n",
    "        if x.isupper():\n",
    "            upper_count += 1\n",
    "        elif x.islower():\n",
    "            lower_count +=1\n",
    "    print(\"Original String:\" , string)\n",
    "    print(\"No. of upper case characters:\" , upper_count)\n",
    "    print(\"No. of lower case characters:\" , lower_count)\n",
    "\n",
    "up_low(s)"
   ]
  },
  {
   "cell_type": "code",
   "execution_count": 12,
   "id": "b0609b09",
   "metadata": {},
   "outputs": [
    {
     "name": "stdout",
     "output_type": "stream",
     "text": [
      "[1, 2, 3, 4, 5]\n"
     ]
    }
   ],
   "source": [
    "# Write a Python function that takes in a list and returns a new list with unique elements of the first list\n",
    "list = [1, 1, 1, 1, 2, 2, 3, 3, 3, 3, 4, 5]\n",
    "\n",
    "def unique_list(list):\n",
    "    new_list = []  \n",
    "    for x in list:\n",
    "        if x not in new_list:\n",
    "            new_list.append(x)\n",
    "    print(new_list)\n",
    "\n",
    "unique_list(list)"
   ]
  },
  {
   "cell_type": "code",
   "execution_count": 15,
   "id": "87373f18",
   "metadata": {},
   "outputs": [
    {
     "name": "stdout",
     "output_type": "stream",
     "text": [
      "-24\n"
     ]
    }
   ],
   "source": [
    "# Write a Python function to multiply all the numbers in a list.\n",
    "\n",
    "numbers = [1, 2, 3, -4]\n",
    "\n",
    "def multiply (numbers):\n",
    "    product = 1\n",
    "    for x in numbers:\n",
    "        product = x * product\n",
    "    return product\n",
    "\n",
    "print(multiply(numbers))\n",
    "        "
   ]
  },
  {
   "cell_type": "code",
   "execution_count": 16,
   "id": "274c9ac0",
   "metadata": {},
   "outputs": [
    {
     "name": "stdout",
     "output_type": "stream",
     "text": [
      "True\n"
     ]
    }
   ],
   "source": [
    "# Write a Python function that checks whether a word or phrase is a palindrome.\n",
    "string = 'helleh'\n",
    "def palindrome(s):\n",
    "    return s == s[::-1]\n",
    "\n",
    "print(palindrome(string))"
   ]
  },
  {
   "cell_type": "code",
   "execution_count": 21,
   "id": "83d9c753",
   "metadata": {},
   "outputs": [
    {
     "name": "stdout",
     "output_type": "stream",
     "text": [
      "True\n"
     ]
    }
   ],
   "source": [
    "# Write a function that checks whether a string is a pangram or not\n",
    "\n",
    "string = 'the quick sly brown fox jumped over the lazy dog'\n",
    "def ispangram(str1):\n",
    "    alphabet = 'abcdefghijklmnopqrstuvwxyz'\n",
    "    for x in alphabet:\n",
    "        if x not in str1:\n",
    "            return False\n",
    "    return True\n",
    "\n",
    "print(ispangram(string))"
   ]
  },
  {
   "cell_type": "code",
   "execution_count": null,
   "id": "5095ae4b",
   "metadata": {},
   "outputs": [],
   "source": []
  }
 ],
 "metadata": {
  "kernelspec": {
   "display_name": "Python 3 (ipykernel)",
   "language": "python",
   "name": "python3"
  },
  "language_info": {
   "codemirror_mode": {
    "name": "ipython",
    "version": 3
   },
   "file_extension": ".py",
   "mimetype": "text/x-python",
   "name": "python",
   "nbconvert_exporter": "python",
   "pygments_lexer": "ipython3",
   "version": "3.9.13"
  }
 },
 "nbformat": 4,
 "nbformat_minor": 5
}
