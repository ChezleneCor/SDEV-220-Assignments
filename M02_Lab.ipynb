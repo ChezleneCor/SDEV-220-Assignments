{
 "cells": [
  {
   "cell_type": "code",
   "execution_count": null,
   "id": "f1fc0b6b",
   "metadata": {},
   "outputs": [
    {
     "name": "stdout",
     "output_type": "stream",
     "text": [
      "Please enter the student's last name: James\n",
      "Please enter the student's first name: Fredrick\n",
      "Please enter the student's GPA: 3.5\n",
      "Fredrick James has made the dean's list.\n",
      "Please enter the student's last name: Luigi\n",
      "Please enter the student's first name: Mario\n",
      "Please enter the student's GPA: 3.2\n",
      "Please enter the student's last name: Jones\n",
      "Please enter the student's first name: Julie B.\n",
      "Please enter the student's GPA: 3.4\n",
      "Julie B. Jones has made the honor roll.\n",
      "Please enter the student's last name: Skywalker\n",
      "Please enter the student's first name: Luke\n",
      "Please enter the student's GPA: 4.0\n",
      "Luke Skywalker has made the dean's list.\n",
      "Please enter the student's last name: Chalamet\n",
      "Please enter the student's first name: Timothee\n",
      "Please enter the student's GPA: 4.9\n",
      "Timothee Chalamet has made the dean's list.\n"
     ]
    }
   ],
   "source": [
    "# name: Chezlene Cornwall\n",
    "# file name: M02_Lab\n",
    "# app description: the app will review the student's GPAs and determine if they made the deans list or honor roll\n",
    "\n",
    "while True:\n",
    "    Lname = input(\"Please enter the student's last name: \")\n",
    "    if Lname == \"ZZZ\":\n",
    "        break\n",
    "    Fname = input(\"Please enter the student's first name: \")\n",
    "    GPA = float(input(\"Please enter the student's GPA: \"))\n",
    "    if GPA >= 3.5:\n",
    "        print(Fname , Lname , \"has made the dean's list.\")\n",
    "    elif GPA >= 3.25:\n",
    "        print(Fname , Lname , \"has made the honor roll.\")"
   ]
  },
  {
   "cell_type": "code",
   "execution_count": null,
   "id": "353875e3",
   "metadata": {},
   "outputs": [],
   "source": []
  }
 ],
 "metadata": {
  "kernelspec": {
   "display_name": "Python 3 (ipykernel)",
   "language": "python",
   "name": "python3"
  },
  "language_info": {
   "codemirror_mode": {
    "name": "ipython",
    "version": 3
   },
   "file_extension": ".py",
   "mimetype": "text/x-python",
   "name": "python",
   "nbconvert_exporter": "python",
   "pygments_lexer": "ipython3",
   "version": "3.9.13"
  }
 },
 "nbformat": 4,
 "nbformat_minor": 5
}
