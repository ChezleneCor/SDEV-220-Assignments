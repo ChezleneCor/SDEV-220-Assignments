{
 "cells": [
  {
   "cell_type": "code",
   "execution_count": 9,
   "id": "afb34e53",
   "metadata": {},
   "outputs": [
    {
     "name": "stdout",
     "output_type": "stream",
     "text": [
      "What is the vehicle year? 2022\n",
      "What is the vehicle's make? Subaru\n",
      "What is the vehicle model? Forrester\n",
      "how many doors are on the vehicle? 2 or 4? 4\n",
      "Does the vehicle have a solid roof or sunroof? Sunroof\n",
      "Year: 2022\n",
      "Make: Subaru\n",
      "Model: Forrester\n",
      "Number of doors:  4\n",
      "Sunroof or solid roof: Sunroof\n"
     ]
    }
   ],
   "source": [
    "# Author: Chez'lene Cornwall\n",
    "# Date: 2/2/2022\n",
    "# Description: The program will have a parent class Vehicle and child class Automobile. The class will\n",
    "# collect information about a vehicle and print the information back to the user in an easy to read format\n",
    "class Vehicle():\n",
    "    \"\"\" Parent class\"\"\"\n",
    "    def __init__(self, type):\n",
    "        self.type = type\n",
    "class Automobile(Vehicle):\n",
    "    \"\"\"Child class that inherits from Vehicle parent class\"\"\"\n",
    "    def __init__(self, name):\n",
    "        self.year = input(\"What is the vehicle year? \")\n",
    "        self.make = input(\"What is the vehicle's make? \")\n",
    "        self.model = input(\"What is the vehicle model? \")\n",
    "        self.doors = int(input(\"how many doors are on the vehicle? 2 or 4? \"))\n",
    "        self.roof = input(\"Does the vehicle have a solid roof or sunroof? \")\n",
    "        \n",
    "    def carFacts(self):\n",
    "        \"\"\"Prints information from user about vehicle\"\"\"\n",
    "        print(\"Year: \" + self.year)\n",
    "        print(\"Make: \" + self.make)\n",
    "        print(\"Model: \" + self.model)\n",
    "        print(\"Number of doors: \" , self.doors)\n",
    "        print(\"Sunroof or solid roof: \" + self.roof)\n",
    "        \n",
    "car = Automobile(\"car\")\n",
    "car.carFacts()"
   ]
  },
  {
   "cell_type": "code",
   "execution_count": null,
   "id": "9a1296de",
   "metadata": {},
   "outputs": [],
   "source": []
  }
 ],
 "metadata": {
  "kernelspec": {
   "display_name": "Python 3 (ipykernel)",
   "language": "python",
   "name": "python3"
  },
  "language_info": {
   "codemirror_mode": {
    "name": "ipython",
    "version": 3
   },
   "file_extension": ".py",
   "mimetype": "text/x-python",
   "name": "python",
   "nbconvert_exporter": "python",
   "pygments_lexer": "ipython3",
   "version": "3.9.13"
  }
 },
 "nbformat": 4,
 "nbformat_minor": 5
}
